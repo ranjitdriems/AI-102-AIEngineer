{
  "nbformat": 4,
  "nbformat_minor": 0,
  "metadata": {
    "colab": {
      "provenance": [],
      "authorship_tag": "ABX9TyPr07rTW0l4PmTbRELH8cH7",
      "include_colab_link": true
    },
    "kernelspec": {
      "name": "python3",
      "display_name": "Python 3"
    },
    "language_info": {
      "name": "python"
    }
  },
  "cells": [
    {
      "cell_type": "markdown",
      "metadata": {
        "id": "view-in-github",
        "colab_type": "text"
      },
      "source": [
        "<a href=\"https://colab.research.google.com/github/ranjitdriems/AI-102-AIEngineer/blob/master/DataEngineering.ipynb\" target=\"_parent\"><img src=\"https://colab.research.google.com/assets/colab-badge.svg\" alt=\"Open In Colab\"/></a>"
      ]
    },
    {
      "cell_type": "code",
      "execution_count": 2,
      "metadata": {
        "colab": {
          "base_uri": "https://localhost:8080/"
        },
        "id": "Co1AlMHjROh8",
        "outputId": "2c8391ee-9f6e-4f9b-acbf-fe46e4f42b6d"
      },
      "outputs": [
        {
          "output_type": "stream",
          "name": "stdout",
          "text": [
            "Hello! Welcome to Python Programming.\n"
          ]
        }
      ],
      "source": [
        "# Task 1: Writing Your First Python Script\n",
        "print(\"Hello! Welcome to Python Programming.\")"
      ]
    },
    {
      "cell_type": "code",
      "source": [
        "# Task 2: Exploring Basic Data Types\n",
        "# Single Value Types\n",
        "x = 5  # Integer\n",
        "a = 3.14  # Float\n",
        "boolean_value = True  # Boolean\n",
        "num1 = 3 + 5j  # Complex number\n",
        "name = \"Alice\"  # String"
      ],
      "metadata": {
        "id": "s-82voCcnnFY"
      },
      "execution_count": 3,
      "outputs": []
    },
    {
      "cell_type": "code",
      "source": [
        "\n",
        "print(name.lower())"
      ],
      "metadata": {
        "colab": {
          "base_uri": "https://localhost:8080/"
        },
        "id": "mM55TG5Mn5BC",
        "outputId": "8d5a9428-faa0-4728-a15f-f8af6a9ac1cb"
      },
      "execution_count": 5,
      "outputs": [
        {
          "output_type": "stream",
          "name": "stdout",
          "text": [
            "alice\n"
          ]
        }
      ]
    },
    {
      "cell_type": "code",
      "source": [
        "print(name.upper())  # Convert to uppercase"
      ],
      "metadata": {
        "colab": {
          "base_uri": "https://localhost:8080/"
        },
        "id": "jErFgAXFoRyC",
        "outputId": "887868e2-0d47-4997-b1bf-15a9c390c424"
      },
      "execution_count": 6,
      "outputs": [
        {
          "output_type": "stream",
          "name": "stdout",
          "text": [
            "ALICE\n"
          ]
        }
      ]
    },
    {
      "cell_type": "code",
      "source": [
        "print(name.strip())  # Remove whitespace"
      ],
      "metadata": {
        "colab": {
          "base_uri": "https://localhost:8080/"
        },
        "id": "LAC2_PAyoVdl",
        "outputId": "bc5728a8-6879-4789-f792-141d65d69df2"
      },
      "execution_count": 7,
      "outputs": [
        {
          "output_type": "stream",
          "name": "stdout",
          "text": [
            "Alice\n"
          ]
        }
      ]
    },
    {
      "cell_type": "code",
      "source": [
        "print(name.replace(\"A\", \"E\"))  # Replace characters"
      ],
      "metadata": {
        "colab": {
          "base_uri": "https://localhost:8080/"
        },
        "id": "zzXIMSvQowAV",
        "outputId": "47c5c487-9760-4c59-9e33-9f2011425ee4"
      },
      "execution_count": 8,
      "outputs": [
        {
          "output_type": "stream",
          "name": "stdout",
          "text": [
            "Elice\n"
          ]
        }
      ]
    },
    {
      "cell_type": "code",
      "source": [
        "print(name.split(\"l\"))  # Split string"
      ],
      "metadata": {
        "colab": {
          "base_uri": "https://localhost:8080/"
        },
        "id": "7cm9PTYpoyLB",
        "outputId": "61ba56ca-f309-4948-b77f-55bc12e7c8a5"
      },
      "execution_count": 9,
      "outputs": [
        {
          "output_type": "stream",
          "name": "stdout",
          "text": [
            "['A', 'ice']\n"
          ]
        }
      ]
    },
    {
      "cell_type": "code",
      "source": [
        "print(\"-\".join([\"Hello\", \"World\"]))"
      ],
      "metadata": {
        "colab": {
          "base_uri": "https://localhost:8080/"
        },
        "id": "V1GzFwUro2af",
        "outputId": "bd72b949-1649-48e8-bcef-bc445dde9cab"
      },
      "execution_count": 10,
      "outputs": [
        {
          "output_type": "stream",
          "name": "stdout",
          "text": [
            "Hello-World\n"
          ]
        }
      ]
    },
    {
      "cell_type": "code",
      "source": [
        "# Task 3: Taking User Input\n",
        "user_name = input(\"Enter your name: \")\n",
        "print(f\"Hello, {user_name}! Welcome to Python.\")"
      ],
      "metadata": {
        "colab": {
          "base_uri": "https://localhost:8080/"
        },
        "id": "idQDtHdkpBcO",
        "outputId": "0b41a244-a024-4923-f603-aaf86d759953"
      },
      "execution_count": 11,
      "outputs": [
        {
          "output_type": "stream",
          "name": "stdout",
          "text": [
            "Enter your name: Ranjit\n",
            "Hello, Ranjit! Welcome to Python.\n"
          ]
        }
      ]
    },
    {
      "cell_type": "code",
      "source": [
        "# Task 4: Performing Arithmetic Operations\n",
        "num1 = float(input(\"Enter first number: \"))\n",
        "num2 = float(input(\"Enter second number: \"))"
      ],
      "metadata": {
        "colab": {
          "base_uri": "https://localhost:8080/"
        },
        "id": "KgOPhGb_pGN6",
        "outputId": "7a8f2c4c-8a1f-4dbc-8c03-53caf97a0fc6"
      },
      "execution_count": 12,
      "outputs": [
        {
          "name": "stdout",
          "output_type": "stream",
          "text": [
            "Enter first number: 19\n",
            "Enter second number: 29\n"
          ]
        }
      ]
    },
    {
      "cell_type": "code",
      "source": [
        "print(f\"Addition: {num1 + num2}\")"
      ],
      "metadata": {
        "colab": {
          "base_uri": "https://localhost:8080/"
        },
        "id": "j_pJkUQ_pOK8",
        "outputId": "ce10b86b-9b47-4a5e-b58a-b0599261ed75"
      },
      "execution_count": 13,
      "outputs": [
        {
          "output_type": "stream",
          "name": "stdout",
          "text": [
            "Addition: 48.0\n"
          ]
        }
      ]
    },
    {
      "cell_type": "code",
      "source": [
        "print(f\"Subtraction: {num1 - num2}\")"
      ],
      "metadata": {
        "colab": {
          "base_uri": "https://localhost:8080/"
        },
        "id": "RL_A6MfspTLW",
        "outputId": "fc0d5ea0-5202-41d9-d62f-a8c3eca61714"
      },
      "execution_count": 14,
      "outputs": [
        {
          "output_type": "stream",
          "name": "stdout",
          "text": [
            "Subtraction: -10.0\n"
          ]
        }
      ]
    },
    {
      "cell_type": "code",
      "source": [
        "print(f\"Multiplication: {num1 * num2}\")"
      ],
      "metadata": {
        "colab": {
          "base_uri": "https://localhost:8080/"
        },
        "id": "XQiKetQDpWWn",
        "outputId": "ad9301fd-90fb-431a-e6d8-b4c2f7c8e634"
      },
      "execution_count": 15,
      "outputs": [
        {
          "output_type": "stream",
          "name": "stdout",
          "text": [
            "Multiplication: 551.0\n"
          ]
        }
      ]
    },
    {
      "cell_type": "code",
      "source": [
        "print(f\"Division: {num1 / num2 if num2 != 0 else 'Undefined (Division by Zero)'}\")"
      ],
      "metadata": {
        "colab": {
          "base_uri": "https://localhost:8080/"
        },
        "id": "j02Z75bzpaiA",
        "outputId": "3f9477fd-9c87-45b5-d77b-04fccb22aa7b"
      },
      "execution_count": 16,
      "outputs": [
        {
          "output_type": "stream",
          "name": "stdout",
          "text": [
            "Division: 0.6551724137931034\n"
          ]
        }
      ]
    },
    {
      "cell_type": "code",
      "source": [
        "# Task 5: Exploring Structures\n",
        "\n",
        "# 5.1. Working with Lists\n",
        "# Creating a List\n",
        "my_list = [1, 2, 3]"
      ],
      "metadata": {
        "id": "OEJkgU9fpfgj"
      },
      "execution_count": 31,
      "outputs": []
    },
    {
      "cell_type": "code",
      "source": [
        "# Indexing and Slicing\n",
        "print(\"First element:\", my_list[0])  # Access first element\n",
        "print(\"Last two elements:\", my_list[1:])  # Slice elements"
      ],
      "metadata": {
        "colab": {
          "base_uri": "https://localhost:8080/"
        },
        "id": "nP8qS8yhpmgF",
        "outputId": "0ed93bb2-74ed-4593-a005-742e240047c9"
      },
      "execution_count": 32,
      "outputs": [
        {
          "output_type": "stream",
          "name": "stdout",
          "text": [
            "First element: 1\n",
            "Last two elements: [2, 3]\n"
          ]
        }
      ]
    },
    {
      "cell_type": "code",
      "source": [
        "# List Methods\n",
        "my_list.append(4)  # Add an element\n",
        "print(my_list)"
      ],
      "metadata": {
        "colab": {
          "base_uri": "https://localhost:8080/"
        },
        "id": "RbwSRMGoprR3",
        "outputId": "6506364f-b15a-42ab-e75b-a782174af69b"
      },
      "execution_count": 33,
      "outputs": [
        {
          "output_type": "stream",
          "name": "stdout",
          "text": [
            "[1, 2, 3, 4]\n"
          ]
        }
      ]
    },
    {
      "cell_type": "code",
      "source": [
        "my_list.extend([5, 6])  # Extend list\n",
        "print(my_list)"
      ],
      "metadata": {
        "colab": {
          "base_uri": "https://localhost:8080/"
        },
        "id": "MhiGEsfUqMPe",
        "outputId": "d5f76141-789c-4a2f-bc7e-87c31a13345f"
      },
      "execution_count": 34,
      "outputs": [
        {
          "output_type": "stream",
          "name": "stdout",
          "text": [
            "[1, 2, 3, 4, 5, 6]\n"
          ]
        }
      ]
    },
    {
      "cell_type": "code",
      "source": [
        "my_list.remove(2)  # Remove element\n",
        "print(my_list)"
      ],
      "metadata": {
        "colab": {
          "base_uri": "https://localhost:8080/"
        },
        "id": "UWuPSnzcqRD2",
        "outputId": "dd86bb6c-34e1-4852-a705-8cbeb73c0a5c"
      },
      "execution_count": 35,
      "outputs": [
        {
          "output_type": "stream",
          "name": "stdout",
          "text": [
            "[1, 3, 4, 5, 6]\n"
          ]
        }
      ]
    },
    {
      "cell_type": "code",
      "source": [
        "popped_element = my_list.pop()  # Remove last element\n",
        "print(f\"Popped element: {popped_element}\")\n",
        "print(f\"Updated list: {my_list}\")\n",
        "\n"
      ],
      "metadata": {
        "colab": {
          "base_uri": "https://localhost:8080/"
        },
        "id": "Up1WorakqZrV",
        "outputId": "57292e80-65aa-4707-cc76-21374f59ac03"
      },
      "execution_count": 36,
      "outputs": [
        {
          "output_type": "stream",
          "name": "stdout",
          "text": [
            "Popped element: 6\n",
            "Updated list: [1, 3, 4, 5]\n"
          ]
        }
      ]
    },
    {
      "cell_type": "code",
      "source": [
        "print(\"Modified list:\", my_list)"
      ],
      "metadata": {
        "colab": {
          "base_uri": "https://localhost:8080/"
        },
        "id": "-7vZo3qDqwfc",
        "outputId": "aa1e2732-c66f-441e-de9b-d54e8a98a481"
      },
      "execution_count": 37,
      "outputs": [
        {
          "output_type": "stream",
          "name": "stdout",
          "text": [
            "Modified list: [1, 3, 4, 5]\n"
          ]
        }
      ]
    },
    {
      "cell_type": "code",
      "source": [
        "# Nesting Lists\n",
        "nested_list = [[1, 2], [3, 4]]\n",
        "print(\"Nested List:\", nested_list)"
      ],
      "metadata": {
        "colab": {
          "base_uri": "https://localhost:8080/"
        },
        "id": "a_teN0VVq1yf",
        "outputId": "70d96829-0883-40f3-d189-c94d0c3abc98"
      },
      "execution_count": 38,
      "outputs": [
        {
          "output_type": "stream",
          "name": "stdout",
          "text": [
            "Nested List: [[1, 2], [3, 4]]\n"
          ]
        }
      ]
    },
    {
      "cell_type": "code",
      "source": [
        "# Creating Tuples\n",
        "my_tuple = (1, 2, 3)"
      ],
      "metadata": {
        "id": "_YY0dBqIq9pT"
      },
      "execution_count": 39,
      "outputs": []
    },
    {
      "cell_type": "code",
      "source": [
        "# Indexing and Slicing\n",
        "print(\"First element of tuple:\", my_tuple[0])\n",
        "print(\"Tuple slice:\", my_tuple[1:])"
      ],
      "metadata": {
        "colab": {
          "base_uri": "https://localhost:8080/"
        },
        "id": "54xCyRdmrC4V",
        "outputId": "0d4f53d3-587b-41bf-8d48-26c9b0334af1"
      },
      "execution_count": 40,
      "outputs": [
        {
          "output_type": "stream",
          "name": "stdout",
          "text": [
            "First element of tuple: 1\n",
            "Tuple slice: (2, 3)\n"
          ]
        }
      ]
    },
    {
      "cell_type": "code",
      "source": [
        "# Tuple Methods\n",
        "print(\"Count of 2 in tuple:\", my_tuple.count(2))\n",
        "print(\"Index of 3 in tuple:\", my_tuple.index(3))"
      ],
      "metadata": {
        "colab": {
          "base_uri": "https://localhost:8080/"
        },
        "id": "JG2lCPNZrFdQ",
        "outputId": "bf0f3920-bfa7-45d0-9af2-aa56c2b29585"
      },
      "execution_count": 41,
      "outputs": [
        {
          "output_type": "stream",
          "name": "stdout",
          "text": [
            "Count of 2 in tuple: 1\n",
            "Index of 3 in tuple: 2\n"
          ]
        }
      ]
    },
    {
      "cell_type": "code",
      "source": [
        "# Nesting Tuples\n",
        "nested_tuple = ((1, 2), (3, 4))\n",
        "print(\"Nested Tuple:\", nested_tuple)"
      ],
      "metadata": {
        "colab": {
          "base_uri": "https://localhost:8080/"
        },
        "id": "urKG8UYwredI",
        "outputId": "3b936ed5-b4dc-4ce8-98d1-5b76e24f6ee4"
      },
      "execution_count": 42,
      "outputs": [
        {
          "output_type": "stream",
          "name": "stdout",
          "text": [
            "Nested Tuple: ((1, 2), (3, 4))\n"
          ]
        }
      ]
    },
    {
      "cell_type": "code",
      "source": [
        "# Creating a Dictionary\n",
        "my_dict = {'name': 'Alice', 'age': 25, 'city': 'New York'}"
      ],
      "metadata": {
        "id": "CcK3gxtvrjfM"
      },
      "execution_count": 44,
      "outputs": []
    },
    {
      "cell_type": "code",
      "source": [
        "# Indexing and Accessing\n",
        "print(\"Name:\", my_dict['name'])\n",
        "print(\"Age:\", my_dict.get('age'))"
      ],
      "metadata": {
        "colab": {
          "base_uri": "https://localhost:8080/"
        },
        "id": "VlC2ML7NrnXx",
        "outputId": "4bf2d09a-ddda-4430-e3c9-ad185eb252c2"
      },
      "execution_count": 45,
      "outputs": [
        {
          "output_type": "stream",
          "name": "stdout",
          "text": [
            "Name: Alice\n",
            "Age: 25\n"
          ]
        }
      ]
    },
    {
      "cell_type": "code",
      "source": [
        "my_dict.update({'age': 26})  # Update value\n",
        "print(\"Updated dictionary:\", my_dict)"
      ],
      "metadata": {
        "colab": {
          "base_uri": "https://localhost:8080/"
        },
        "id": "5fYT3TKSruam",
        "outputId": "80e631a2-20f6-462c-a757-b1cf97c047c4"
      },
      "execution_count": 46,
      "outputs": [
        {
          "output_type": "stream",
          "name": "stdout",
          "text": [
            "Updated dictionary: {'name': 'Alice', 'age': 26, 'city': 'New York'}\n"
          ]
        }
      ]
    },
    {
      "cell_type": "code",
      "source": [
        "my_dict['country'] = 'USA'  # Add new key-value pair\n",
        "print(\"Dictionary after adding:\", my_dict)"
      ],
      "metadata": {
        "colab": {
          "base_uri": "https://localhost:8080/"
        },
        "id": "tDewcWdlr7Gl",
        "outputId": "04b70d54-46c6-4118-e8ff-73241a5b4d17"
      },
      "execution_count": 47,
      "outputs": [
        {
          "output_type": "stream",
          "name": "stdout",
          "text": [
            "Dictionary after adding: {'name': 'Alice', 'age': 26, 'city': 'New York', 'country': 'USA'}\n"
          ]
        }
      ]
    },
    {
      "cell_type": "code",
      "source": [
        "removed_value = my_dict.pop('city')  # Remove key-value pair\n",
        "print(f\"Removed value: {removed_value}\")\n",
        "print(\"Dictionary after removal:\", my_dict)"
      ],
      "metadata": {
        "colab": {
          "base_uri": "https://localhost:8080/"
        },
        "id": "JktcMj_psCEX",
        "outputId": "30bf5b54-0044-4456-f5b9-0404e996f387"
      },
      "execution_count": 48,
      "outputs": [
        {
          "output_type": "stream",
          "name": "stdout",
          "text": [
            "Removed value: New York\n",
            "Dictionary after removal: {'name': 'Alice', 'age': 26, 'country': 'USA'}\n"
          ]
        }
      ]
    },
    {
      "cell_type": "code",
      "source": [
        "print(\"Updated Dictionary:\", my_dict)"
      ],
      "metadata": {
        "colab": {
          "base_uri": "https://localhost:8080/"
        },
        "id": "s2A585IpsMAe",
        "outputId": "4e38650f-e4d8-4f1e-db04-d10ba278e7fe"
      },
      "execution_count": 49,
      "outputs": [
        {
          "output_type": "stream",
          "name": "stdout",
          "text": [
            "Updated Dictionary: {'name': 'Alice', 'age': 26, 'country': 'USA'}\n"
          ]
        }
      ]
    },
    {
      "cell_type": "code",
      "source": [
        "# Nesting Dictionaries\n",
        "nested_dict = {\n",
        "    'person1': {'name': 'Alice', 'age': 26},\n",
        "    'person2': {'name': 'Bob', 'age': 30}\n",
        "}\n",
        "print(\"Nested Dictionary:\", nested_dict)"
      ],
      "metadata": {
        "colab": {
          "base_uri": "https://localhost:8080/"
        },
        "id": "4C21WhOysQyR",
        "outputId": "761020d1-0d0c-4bda-fe5d-24461b8d51f8"
      },
      "execution_count": 50,
      "outputs": [
        {
          "output_type": "stream",
          "name": "stdout",
          "text": [
            "Nested Dictionary: {'person1': {'name': 'Alice', 'age': 26}, 'person2': {'name': 'Bob', 'age': 30}}\n"
          ]
        }
      ]
    }
  ]
}